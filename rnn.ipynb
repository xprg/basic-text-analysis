{
  "nbformat": 4,
  "nbformat_minor": 0,
  "metadata": {
    "colab": {
      "name": "rnn.ipynb",
      "private_outputs": true,
      "provenance": [],
      "authorship_tag": "ABX9TyO89HfM5sMm620rwIgkhVZV"
    },
    "kernelspec": {
      "name": "python3",
      "display_name": "Python 3"
    },
    "language_info": {
      "name": "python"
    },
    "accelerator": "TPU"
  },
  "cells": [
    {
      "cell_type": "code",
      "metadata": {
        "id": "22kqI36QukF5"
      },
      "source": [
        "from keras.datasets import imdb\n"
      ],
      "execution_count": null,
      "outputs": []
    },
    {
      "cell_type": "code",
      "metadata": {
        "id": "SsP-XexXvNYC"
      },
      "source": [
        "(xtrain,ytrain),(xtest,ytest)=imdb.load_data(num_words=8000)\n"
      ],
      "execution_count": null,
      "outputs": []
    },
    {
      "cell_type": "code",
      "metadata": {
        "id": "T8ZzEge-v6e4"
      },
      "source": [
        "print(len(xtrain[0]))\n",
        "print(type(xtrain[0]))\n"
      ],
      "execution_count": null,
      "outputs": []
    },
    {
      "cell_type": "code",
      "metadata": {
        "id": "c4ZFVmzKwjkf"
      },
      "source": [
        "print(xtrain[0])"
      ],
      "execution_count": null,
      "outputs": []
    },
    {
      "cell_type": "code",
      "metadata": {
        "id": "W_JSMm-7zwvl"
      },
      "source": [
        "word_idx=imdb.get_word_index()"
      ],
      "execution_count": null,
      "outputs": []
    },
    {
      "cell_type": "code",
      "metadata": {
        "id": "Qs0R72xDz7_d"
      },
      "source": [
        "idx_word=dict(([value,key]for (key,value) in word_idx.items()))\n"
      ],
      "execution_count": null,
      "outputs": []
    },
    {
      "cell_type": "code",
      "metadata": {
        "id": "wdNGIgj_870j"
      },
      "source": [
        "from keras.preprocessing import sequence\n",
        "\n",
        "xtrain=sequence.pad_sequences(xtrain,maxlen=500)\n",
        "xtest=sequence.pad_sequences(xtest,maxlen=500)"
      ],
      "execution_count": null,
      "outputs": []
    },
    {
      "cell_type": "code",
      "metadata": {
        "id": "mmMPfCpL9hAR"
      },
      "source": [
        "from keras.models import Sequential\n",
        "from keras.layers import Embedding,SimpleRNN,Dense\n",
        "\n",
        "model=Sequential()\n",
        "model.add(Embedding(10000,64)) \n",
        "model.add(SimpleRNN(32))\n",
        "model.add(Dense(1,activation='sigmoid'))\n",
        "model.summary()\n"
      ],
      "execution_count": null,
      "outputs": []
    },
    {
      "cell_type": "code",
      "metadata": {
        "id": "QhHZFHaVCEEU"
      },
      "source": [
        "model.compile(optimizer='rmsprop',loss='binary_crossentropy',metrics=[\"accuracy\"])\n",
        "from keras.callbacks import ModelCheckpoint\n",
        "from keras.callbacks import EarlyStopping\n",
        "\n",
        "checkpoint=ModelCheckpoint(\"bestmodel_saved.h5\",monitor='val_acc',save_best_only=True,mode='auto')\n",
        "Early=EarlyStopping(monitor='val_acc',patience='2')"
      ],
      "execution_count": null,
      "outputs": []
    },
    {
      "cell_type": "markdown",
      "metadata": {
        "id": "uoMnliNdOgtX"
      },
      "source": [
        "# New Section"
      ]
    },
    {
      "cell_type": "markdown",
      "metadata": {
        "id": "ns-_FzniOgwk"
      },
      "source": [
        "# New Section"
      ]
    },
    {
      "cell_type": "code",
      "metadata": {
        "id": "-xSsM9atCVcj"
      },
      "source": [
        "model.fit(xtrain,ytrain,epochs=4,validation_data=(xtest,ytest),batch_size=128,)"
      ],
      "execution_count": null,
      "outputs": []
    },
    {
      "cell_type": "code",
      "metadata": {
        "id": "gYsNjr8ZKxcC"
      },
      "source": [
        "!\n"
      ],
      "execution_count": null,
      "outputs": []
    }
  ]
}